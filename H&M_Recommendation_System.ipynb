{
 "cells": [
  {
   "cell_type": "code",
   "execution_count": 1,
   "id": "RaQ9CIrsySIY",
   "metadata": {
    "colab": {
     "base_uri": "https://localhost:8080/"
    },
    "id": "RaQ9CIrsySIY",
    "outputId": "aa9112ba-3a2c-4822-ecfb-6537e8155837"
   },
   "outputs": [
    {
     "name": "stdout",
     "output_type": "stream",
     "text": [
      "Requirement already satisfied: torch_geometric in /usr/local/lib/python3.12/dist-packages (2.6.1)\n",
      "Requirement already satisfied: aiohttp in /usr/local/lib/python3.12/dist-packages (from torch_geometric) (3.12.15)\n",
      "Requirement already satisfied: fsspec in /usr/local/lib/python3.12/dist-packages (from torch_geometric) (2025.3.0)\n",
      "Requirement already satisfied: jinja2 in /usr/local/lib/python3.12/dist-packages (from torch_geometric) (3.1.6)\n",
      "Requirement already satisfied: numpy in /usr/local/lib/python3.12/dist-packages (from torch_geometric) (2.0.2)\n",
      "Requirement already satisfied: psutil>=5.8.0 in /usr/local/lib/python3.12/dist-packages (from torch_geometric) (5.9.5)\n",
      "Requirement already satisfied: pyparsing in /usr/local/lib/python3.12/dist-packages (from torch_geometric) (3.2.3)\n",
      "Requirement already satisfied: requests in /usr/local/lib/python3.12/dist-packages (from torch_geometric) (2.32.4)\n",
      "Requirement already satisfied: tqdm in /usr/local/lib/python3.12/dist-packages (from torch_geometric) (4.67.1)\n",
      "Requirement already satisfied: aiohappyeyeballs>=2.5.0 in /usr/local/lib/python3.12/dist-packages (from aiohttp->torch_geometric) (2.6.1)\n",
      "Requirement already satisfied: aiosignal>=1.4.0 in /usr/local/lib/python3.12/dist-packages (from aiohttp->torch_geometric) (1.4.0)\n",
      "Requirement already satisfied: attrs>=17.3.0 in /usr/local/lib/python3.12/dist-packages (from aiohttp->torch_geometric) (25.3.0)\n",
      "Requirement already satisfied: frozenlist>=1.1.1 in /usr/local/lib/python3.12/dist-packages (from aiohttp->torch_geometric) (1.7.0)\n",
      "Requirement already satisfied: multidict<7.0,>=4.5 in /usr/local/lib/python3.12/dist-packages (from aiohttp->torch_geometric) (6.6.4)\n",
      "Requirement already satisfied: propcache>=0.2.0 in /usr/local/lib/python3.12/dist-packages (from aiohttp->torch_geometric) (0.3.2)\n",
      "Requirement already satisfied: yarl<2.0,>=1.17.0 in /usr/local/lib/python3.12/dist-packages (from aiohttp->torch_geometric) (1.20.1)\n",
      "Requirement already satisfied: MarkupSafe>=2.0 in /usr/local/lib/python3.12/dist-packages (from jinja2->torch_geometric) (3.0.2)\n",
      "Requirement already satisfied: charset_normalizer<4,>=2 in /usr/local/lib/python3.12/dist-packages (from requests->torch_geometric) (3.4.3)\n",
      "Requirement already satisfied: idna<4,>=2.5 in /usr/local/lib/python3.12/dist-packages (from requests->torch_geometric) (3.10)\n",
      "Requirement already satisfied: urllib3<3,>=1.21.1 in /usr/local/lib/python3.12/dist-packages (from requests->torch_geometric) (2.5.0)\n",
      "Requirement already satisfied: certifi>=2017.4.17 in /usr/local/lib/python3.12/dist-packages (from requests->torch_geometric) (2025.8.3)\n",
      "Requirement already satisfied: typing-extensions>=4.2 in /usr/local/lib/python3.12/dist-packages (from aiosignal>=1.4.0->aiohttp->torch_geometric) (4.15.0)\n"
     ]
    }
   ],
   "source": [
    "!pip install torch_geometric"
   ]
  },
  {
   "cell_type": "code",
   "execution_count": 2,
   "id": "247a374c-8e9c-42eb-9c10-3d921a81cbcc",
   "metadata": {
    "id": "247a374c-8e9c-42eb-9c10-3d921a81cbcc"
   },
   "outputs": [],
   "source": [
    "import torch\n",
    "import torch.nn as nn\n",
    "import torch.nn.functional as F\n",
    "import torch_geometric\n",
    "from torch_geometric.datasets import HM\n",
    "from torch_geometric.transforms import NormalizeFeatures\n",
    "from torch_geometric.data import HeteroData\n",
    "from torch_geometric.utils import negative_sampling\n",
    "from torch_geometric.nn import SAGEConv, HeteroConv"
   ]
  },
  {
   "cell_type": "code",
   "execution_count": 3,
   "id": "5f6c006d-dcc3-4129-808c-aebdc7659175",
   "metadata": {
    "colab": {
     "base_uri": "https://localhost:8080/",
     "height": 35
    },
    "id": "5f6c006d-dcc3-4129-808c-aebdc7659175",
    "outputId": "2d528cce-4fc5-4a2d-bfc8-639c199ca76d"
   },
   "outputs": [
    {
     "data": {
      "application/vnd.google.colaboratory.intrinsic+json": {
       "type": "string"
      },
      "text/plain": [
       "'cuda'"
      ]
     },
     "execution_count": 3,
     "metadata": {},
     "output_type": "execute_result"
    }
   ],
   "source": [
    "device = \"cuda\" if torch.cuda.is_available()  else \"cpu\"\n",
    "device"
   ]
  },
  {
   "cell_type": "code",
   "execution_count": 4,
   "id": "9c4d70aa-0709-418d-ab75-3e1e5d55c06d",
   "metadata": {
    "colab": {
     "base_uri": "https://localhost:8080/"
    },
    "id": "9c4d70aa-0709-418d-ab75-3e1e5d55c06d",
    "outputId": "6e98b0b8-4e54-4a5a-9f10-4254846af647"
   },
   "outputs": [
    {
     "data": {
      "text/plain": [
       "HeteroData(\n",
       "  customer={ x=[1371980, 9] },\n",
       "  article={ x=[105542, 683] },\n",
       "  (customer, to, article)={\n",
       "    edge_index=[2, 31788324],\n",
       "    time=[31788324],\n",
       "    edge_attr=[31788324, 3],\n",
       "  },\n",
       "  (article, rev_to, customer)={\n",
       "    edge_index=[2, 31788324],\n",
       "    time=[31788324],\n",
       "    edge_attr=[31788324, 3],\n",
       "  }\n",
       ")"
      ]
     },
     "execution_count": 4,
     "metadata": {},
     "output_type": "execute_result"
    }
   ],
   "source": [
    "dataset = HM(root=\"data/HM\", transform=NormalizeFeatures())\n",
    "dataset[0]"
   ]
  },
  {
   "cell_type": "markdown",
   "id": "efc2962b-3ed2-4b74-910f-4138878d8a31",
   "metadata": {
    "id": "efc2962b-3ed2-4b74-910f-4138878d8a31"
   },
   "source": [
    "### Sampling a smaller SubGraph"
   ]
  },
  {
   "cell_type": "code",
   "execution_count": 5,
   "id": "df6fed40-c60f-4897-8614-32824e99ab97",
   "metadata": {
    "id": "df6fed40-c60f-4897-8614-32824e99ab97"
   },
   "outputs": [],
   "source": [
    "def Sample_SubGraph(dataset, num_customers=100000):\n",
    "    # Picking a random set of customer and their corresponding links\n",
    "\n",
    "    total_customer = dataset[0][\"customer\"]['x'].shape[0]\n",
    "    chosen_customers = torch.randperm(total_customer)[:num_customers]\n",
    "\n",
    "    src, dest = dataset[0]['customer', 'to', 'article']['edge_index']\n",
    "    mask = torch.isin(src, chosen_customers)\n",
    "\n",
    "    new_src = src[mask]\n",
    "    new_dst = dest[mask]\n",
    "\n",
    "    # Get unique articles that remain\n",
    "    chosen_articles = torch.unique(new_dst)\n",
    "\n",
    "    # Remap customer and article indices\n",
    "    cust_id_map = {old.item(): new for new, old in enumerate(chosen_customers)}\n",
    "    art_id_map = {old.item(): new for new, old in enumerate(chosen_articles)}\n",
    "\n",
    "    new_src = torch.tensor([cust_id_map[s.item()] for s in new_src])\n",
    "    new_dst = torch.tensor([art_id_map[d.item()] for d in new_dst])\n",
    "\n",
    "    # Create new HeteroData\n",
    "    new_data = HeteroData()\n",
    "\n",
    "    new_data['customer'].x = dataset[0]['customer']['x'][chosen_customers]\n",
    "    new_data['article'].x = dataset[0]['article']['x'][chosen_articles]\n",
    "\n",
    "    new_data['customer', 'to', 'article'].edge_index = torch.stack([new_src, new_dst])\n",
    "    new_data['article', 'rev_to', 'customer'].edge_index = torch.stack([new_dst, new_src])\n",
    "\n",
    "    # Copy edge attributes & time (filter with same mask)\n",
    "    if 'edge_attr' in dataset[0]['customer', 'to', 'article']:\n",
    "        new_data['customer', 'to', 'article'].edge_attr = dataset[0]['customer', 'to', 'article']['edge_attr'][mask]\n",
    "        new_data['article', 'rev_to', 'customer'].edge_attr = dataset[0]['article', 'rev_to', 'customer']['edge_attr'][mask]\n",
    "\n",
    "    if 'time' in dataset[0]['customer', 'to', 'article']:\n",
    "        new_data['customer', 'to', 'article'].time = dataset[0]['customer', 'to', 'article']['time'][mask]\n",
    "        new_data['article', 'rev_to', 'customer'].time = dataset[0]['article', 'rev_to', 'customer']['time'][mask]\n",
    "\n",
    "    return new_data"
   ]
  },
  {
   "cell_type": "code",
   "execution_count": 6,
   "id": "082b7f0e-fbf8-49d5-bb73-babc9ddca982",
   "metadata": {
    "id": "082b7f0e-fbf8-49d5-bb73-babc9ddca982"
   },
   "outputs": [],
   "source": [
    "# Sub Graph\n",
    "data = Sample_SubGraph(dataset)"
   ]
  },
  {
   "cell_type": "code",
   "execution_count": 7,
   "id": "c43bc2cb-e4b3-47d1-92b7-ef3032ec7b4a",
   "metadata": {
    "colab": {
     "base_uri": "https://localhost:8080/"
    },
    "id": "c43bc2cb-e4b3-47d1-92b7-ef3032ec7b4a",
    "outputId": "5de17529-dd12-4af3-ac10-82afb3742da3"
   },
   "outputs": [
    {
     "data": {
      "text/plain": [
       "HeteroData(\n",
       "  customer={ x=[100000, 9] },\n",
       "  article={ x=[82477, 683] },\n",
       "  (customer, to, article)={\n",
       "    edge_index=[2, 2327067],\n",
       "    edge_attr=[2327067, 3],\n",
       "    time=[2327067],\n",
       "  },\n",
       "  (article, rev_to, customer)={\n",
       "    edge_index=[2, 2327067],\n",
       "    edge_attr=[2327067, 3],\n",
       "    time=[2327067],\n",
       "  }\n",
       ")"
      ]
     },
     "execution_count": 7,
     "metadata": {},
     "output_type": "execute_result"
    }
   ],
   "source": [
    "data"
   ]
  },
  {
   "cell_type": "markdown",
   "id": "32493664-6c76-45f1-a7c7-654cbaffc488",
   "metadata": {
    "id": "32493664-6c76-45f1-a7c7-654cbaffc488"
   },
   "source": [
    "### Splitting Edges into Train/ Test"
   ]
  },
  {
   "cell_type": "code",
   "execution_count": 8,
   "id": "0fc9e33f-2b0a-42df-8fe5-4f45e699efc4",
   "metadata": {
    "id": "0fc9e33f-2b0a-42df-8fe5-4f45e699efc4"
   },
   "outputs": [],
   "source": [
    "def split(data, split_ratio=0.3, seed=42):\n",
    "    edge_index = data['customer', 'to', 'article'].edge_index\n",
    "    num_edges = edge_index.shape[1]\n",
    "\n",
    "    # Shuffle edges\n",
    "    torch.manual_seed(seed)\n",
    "    perm = torch.randperm(num_edges)\n",
    "\n",
    "    #Split\n",
    "    test_size = int(split_ratio * num_edges)\n",
    "\n",
    "    test_src, test_dest = edge_index[:, perm[:test_size]]\n",
    "    train_src, train_dest = edge_index[:, perm[test_size:]]\n",
    "\n",
    "    train_edges_forward = torch.stack([train_src, train_dest])\n",
    "    train_edges_reverse = torch.stack([train_dest, train_src])\n",
    "\n",
    "    test_edges_forward = torch.stack([test_src, test_dest])\n",
    "    test_edges_reverse = torch.stack([test_dest, test_src])\n",
    "\n",
    "    train_edges = [train_edges_forward, train_edges_reverse]\n",
    "    test_edges = [test_edges_forward, test_edges_reverse]\n",
    "\n",
    "    return train_edges, test_edges"
   ]
  },
  {
   "cell_type": "code",
   "execution_count": 9,
   "id": "f216bd4b-1097-4292-bdb9-0b60fa88083e",
   "metadata": {
    "id": "f216bd4b-1097-4292-bdb9-0b60fa88083e"
   },
   "outputs": [],
   "source": [
    "train_edges, test_edges = split(data)"
   ]
  },
  {
   "cell_type": "markdown",
   "id": "74a9f811-89e6-4a06-95cd-57fe514e45e4",
   "metadata": {
    "id": "74a9f811-89e6-4a06-95cd-57fe514e45e4"
   },
   "source": [
    "### Sampling Negative Edges"
   ]
  },
  {
   "cell_type": "code",
   "execution_count": 10,
   "id": "797bb3c7-91b4-4698-8ca8-f6af83e30682",
   "metadata": {
    "id": "797bb3c7-91b4-4698-8ca8-f6af83e30682"
   },
   "outputs": [],
   "source": [
    "# Sampling Negative edges on the train edges\n",
    "neg_edge_index_forward = negative_sampling(\n",
    "    edge_index=train_edges[0],\n",
    "    num_nodes = (data['customer'].x.shape[0], data['article'].x.shape[0]),\n",
    "    num_neg_samples= train_edges[0].shape[1]\n",
    ")\n",
    "\n",
    "src, dst = neg_edge_index_forward\n",
    "\n",
    "neg_edge_index_reverse = torch.stack([dst, src])\n",
    "\n",
    "neg_edges = [neg_edge_index_forward, neg_edge_index_reverse]"
   ]
  },
  {
   "cell_type": "code",
   "execution_count": 30,
   "id": "ARXdm8g15vNt",
   "metadata": {
    "id": "ARXdm8g15vNt"
   },
   "outputs": [],
   "source": [
    "# Sampling Negative edges on the test edges\n",
    "neg_edge_index_forward = negative_sampling(\n",
    "    edge_index=test_edges[0],\n",
    "    num_nodes = (data['customer'].x.shape[0], data['article'].x.shape[0]),\n",
    "    num_neg_samples= test_edges[0].shape[1]\n",
    ")\n",
    "\n",
    "src, dst = neg_edge_index_forward\n",
    "\n",
    "neg_edge_index_reverse = torch.stack([dst, src])\n",
    "\n",
    "test_neg_edges = [neg_edge_index_forward, neg_edge_index_reverse]"
   ]
  },
  {
   "cell_type": "code",
   "execution_count": 11,
   "id": "14368a90-4e83-4568-8af1-784ff32d9bc0",
   "metadata": {
    "id": "14368a90-4e83-4568-8af1-784ff32d9bc0"
   },
   "outputs": [],
   "source": [
    "def Labels(pos_edges, neg_edges):\n",
    "    pos_forward = pos_edges[0]\n",
    "    neg_forward = neg_edges[0]\n",
    "\n",
    "    # pos_reverse = pos_edges[1]\n",
    "    # neg_reverse = neg_edges[1]\n",
    "\n",
    "    combined_edges_forward = torch.cat((pos_forward, neg_forward), dim=1)\n",
    "    # combined_edges_reverse = torch.cat((pos_reverse, neg_reverse), dim=1)\n",
    "\n",
    "    labels_forward = torch.cat((torch.ones(pos_forward.size(1)), torch.zeros(neg_forward.size(1))), dim=0)\n",
    "    # labels_reverse = torch.cat((torch.ones(pos_reverse.size(1)), torch.zeros(neg_reverse.size(1))), dim=0)\n",
    "\n",
    "    # combined_edges = [combined_edges_forward, combined_edges_reverse]\n",
    "    # labels = [labels_forward, labels_reverse]\n",
    "\n",
    "    return combined_edges_forward, labels_forward\n"
   ]
  },
  {
   "cell_type": "code",
   "execution_count": 12,
   "id": "d383b141-173b-49ae-be07-d6f81373b8c9",
   "metadata": {
    "id": "d383b141-173b-49ae-be07-d6f81373b8c9"
   },
   "outputs": [],
   "source": [
    "combined_edges, labels = Labels(train_edges, neg_edges) # only forward edges considered"
   ]
  },
  {
   "cell_type": "code",
   "execution_count": 31,
   "id": "gYkEOZfF57si",
   "metadata": {
    "id": "gYkEOZfF57si"
   },
   "outputs": [],
   "source": [
    "test_combined_edges, test_labels = Labels(test_edges, test_neg_edges)"
   ]
  },
  {
   "cell_type": "code",
   "execution_count": 13,
   "id": "6c6dffdf-d4ad-4356-96a7-28f95ff75d3f",
   "metadata": {
    "id": "6c6dffdf-d4ad-4356-96a7-28f95ff75d3f"
   },
   "outputs": [],
   "source": [
    "x_dict = {\n",
    "    'customer': data['customer'].x.to(device), # shape [100000, 9]\n",
    "    'article':  data['article'].x.to(device)  # shape [82302, 683]\n",
    "}\n",
    "\n",
    "edge_index_dict = {\n",
    "    ('customer', 'to', 'article'): train_edges[0].to(device),\n",
    "    ('article', 'rev_to', 'customer'): train_edges[1].to(device),\n",
    "}"
   ]
  },
  {
   "cell_type": "markdown",
   "id": "6fc2c083-b73d-4ff1-bafb-87776447adab",
   "metadata": {
    "id": "6fc2c083-b73d-4ff1-bafb-87776447adab"
   },
   "source": [
    "### GNN Model"
   ]
  },
  {
   "cell_type": "code",
   "execution_count": 14,
   "id": "2b03aa40-7439-4980-a77f-e8b32b4b99db",
   "metadata": {
    "id": "2b03aa40-7439-4980-a77f-e8b32b4b99db"
   },
   "outputs": [],
   "source": [
    "class HeteroGNN(nn.Module):\n",
    "    def __init__(self, hidden_channels=128):\n",
    "        super().__init__()\n",
    "\n",
    "        # One layer per relation type\n",
    "        self.conv1 = HeteroConv({\n",
    "            ('customer', 'to', 'article'): SAGEConv((-1, -1), hidden_channels),\n",
    "            ('article', 'rev_to', 'customer'): SAGEConv((-1, -1), hidden_channels),\n",
    "        }, aggr='sum')\n",
    "\n",
    "        self.conv2 = HeteroConv({\n",
    "            ('customer', 'to', 'article'): SAGEConv((-1, -1), hidden_channels),\n",
    "            ('article', 'rev_to', 'customer'): SAGEConv((-1, -1), hidden_channels),\n",
    "        }, aggr='sum')\n",
    "\n",
    "    def forward(self, x_dict, edge_index_dict):\n",
    "\n",
    "        x_dict = self.conv1(x_dict, edge_index_dict)\n",
    "        x_dict = {k: F.relu(v) for k, v in x_dict.items()}\n",
    "\n",
    "        # Second conv (final embeddings)\n",
    "        x_dict = self.conv2(x_dict, edge_index_dict)\n",
    "        return x_dict"
   ]
  },
  {
   "cell_type": "code",
   "execution_count": 21,
   "id": "e8426e40-ccb5-4b38-abfe-a52eb4b3b39e",
   "metadata": {
    "id": "e8426e40-ccb5-4b38-abfe-a52eb4b3b39e"
   },
   "outputs": [],
   "source": [
    "model = HeteroGNN()\n",
    "model = model.to(device)"
   ]
  },
  {
   "cell_type": "code",
   "execution_count": 22,
   "id": "fb439589-eb39-4423-9083-3fcf936b92ae",
   "metadata": {
    "colab": {
     "base_uri": "https://localhost:8080/"
    },
    "id": "fb439589-eb39-4423-9083-3fcf936b92ae",
    "outputId": "cfaf16b0-8bbc-486b-f7d9-e3e09cc97e5e"
   },
   "outputs": [
    {
     "data": {
      "text/plain": [
       "(torch.Size([82477, 128]), torch.Size([100000, 128]))"
      ]
     },
     "execution_count": 22,
     "metadata": {},
     "output_type": "execute_result"
    }
   ],
   "source": [
    "# To check if the initialization works\n",
    "with torch.no_grad():  # Initialize lazy modules.\n",
    "     out = model(x_dict, edge_index_dict)\n",
    "out['article'].shape, out['customer'].shape"
   ]
  },
  {
   "cell_type": "code",
   "execution_count": 23,
   "id": "3630ea7e-3d9f-4d60-afa8-cbe8d59ee049",
   "metadata": {
    "id": "3630ea7e-3d9f-4d60-afa8-cbe8d59ee049"
   },
   "outputs": [],
   "source": [
    "optimizer = torch.optim.Adam(model.parameters(), lr = 0.01)\n",
    "criterion = torch.nn.BCEWithLogitsLoss()"
   ]
  },
  {
   "cell_type": "code",
   "execution_count": 24,
   "id": "83303968-e6fd-4900-b457-007ca754850f",
   "metadata": {
    "id": "83303968-e6fd-4900-b457-007ca754850f"
   },
   "outputs": [],
   "source": [
    "def accuracy(pred, label): # Link Prediction Accuracy\n",
    "  accu = 0.0\n",
    "\n",
    "  pred = (pred > 0.5).float()\n",
    "  count = (pred == label).sum().item()\n",
    "  accu = count / len(pred)\n",
    "  accu = round(accu, 4)\n",
    "  return accu"
   ]
  },
  {
   "cell_type": "code",
   "execution_count": 25,
   "id": "47b7a84c-7036-497b-9b9d-a5b33ee8aee3",
   "metadata": {
    "id": "47b7a84c-7036-497b-9b9d-a5b33ee8aee3"
   },
   "outputs": [],
   "source": [
    "def train(model, x, edge_index, combined_edges, labels):\n",
    "    train_loss = 0.0\n",
    "    model.train()\n",
    "\n",
    "    for epoch in range(200):\n",
    "        optimizer.zero_grad()\n",
    "\n",
    "        # Get Node Embeddings\n",
    "        node_emb = model(x, edge_index)\n",
    "\n",
    "        # Extract source and destination node embeddings\n",
    "        src = combined_edges[0]\n",
    "        dst = combined_edges[1]\n",
    "        src_emb = node_emb['customer'][src]\n",
    "        dst_emb = node_emb['article'][dst]\n",
    "\n",
    "        # Compute dot product for edge prediction\n",
    "        dot_prd = (src_emb * dst_emb).sum(dim=1)\n",
    "\n",
    "        # Compute loss\n",
    "        loss = criterion(dot_prd, labels.to(device))\n",
    "\n",
    "        # Backpropagation\n",
    "        loss.backward()\n",
    "        optimizer.step()\n",
    "\n",
    "        pred = torch.sigmoid(dot_prd)\n",
    "\n",
    "        # Compute accuracy\n",
    "        Accuracy = accuracy(pred, labels.to(device))\n",
    "\n",
    "        if epoch % 1 == 0:\n",
    "            print(f\"Epoch {epoch + 1}/200 - Loss: {loss.item():.4f}, Accuracy: {Accuracy}\")\n",
    "\n",
    "    return node_emb"
   ]
  },
  {
   "cell_type": "code",
   "execution_count": 33,
   "id": "c2dcde85-d1d0-4e28-a5f8-d8ca22ddbaec",
   "metadata": {
    "colab": {
     "base_uri": "https://localhost:8080/"
    },
    "id": "c2dcde85-d1d0-4e28-a5f8-d8ca22ddbaec",
    "outputId": "614ba6d1-5474-4673-94b2-19f127d8b7cc"
   },
   "outputs": [
    {
     "name": "stdout",
     "output_type": "stream",
     "text": [
      "Epoch 1/200 - Loss: 0.3037, Accuracy: 0.8696\n",
      "Epoch 2/200 - Loss: 0.3039, Accuracy: 0.8696\n",
      "Epoch 3/200 - Loss: 0.3045, Accuracy: 0.869\n",
      "Epoch 4/200 - Loss: 0.3061, Accuracy: 0.8687\n",
      "Epoch 5/200 - Loss: 0.3082, Accuracy: 0.8668\n",
      "Epoch 6/200 - Loss: 0.3130, Accuracy: 0.8657\n",
      "Epoch 7/200 - Loss: 0.3154, Accuracy: 0.8626\n",
      "Epoch 8/200 - Loss: 0.3160, Accuracy: 0.8643\n",
      "Epoch 9/200 - Loss: 0.3053, Accuracy: 0.8684\n",
      "Epoch 10/200 - Loss: 0.3016, Accuracy: 0.8706\n",
      "Epoch 11/200 - Loss: 0.3074, Accuracy: 0.8682\n",
      "Epoch 12/200 - Loss: 0.3056, Accuracy: 0.8687\n",
      "Epoch 13/200 - Loss: 0.3005, Accuracy: 0.8714\n",
      "Epoch 14/200 - Loss: 0.3022, Accuracy: 0.8705\n",
      "Epoch 15/200 - Loss: 0.3035, Accuracy: 0.8698\n",
      "Epoch 16/200 - Loss: 0.3002, Accuracy: 0.8715\n",
      "Epoch 17/200 - Loss: 0.2993, Accuracy: 0.872\n",
      "Epoch 18/200 - Loss: 0.3015, Accuracy: 0.8707\n",
      "Epoch 19/200 - Loss: 0.3011, Accuracy: 0.8712\n",
      "Epoch 20/200 - Loss: 0.2981, Accuracy: 0.8724\n",
      "Epoch 21/200 - Loss: 0.2979, Accuracy: 0.8725\n",
      "Epoch 22/200 - Loss: 0.2997, Accuracy: 0.8718\n",
      "Epoch 23/200 - Loss: 0.2995, Accuracy: 0.8716\n",
      "Epoch 24/200 - Loss: 0.2976, Accuracy: 0.8728\n",
      "Epoch 25/200 - Loss: 0.2959, Accuracy: 0.8735\n",
      "Epoch 26/200 - Loss: 0.2961, Accuracy: 0.8734\n",
      "Epoch 27/200 - Loss: 0.2972, Accuracy: 0.8732\n",
      "Epoch 28/200 - Loss: 0.2978, Accuracy: 0.8725\n",
      "Epoch 29/200 - Loss: 0.2978, Accuracy: 0.8729\n",
      "Epoch 30/200 - Loss: 0.2965, Accuracy: 0.873\n",
      "Epoch 31/200 - Loss: 0.2952, Accuracy: 0.8741\n",
      "Epoch 32/200 - Loss: 0.2939, Accuracy: 0.8745\n",
      "Epoch 33/200 - Loss: 0.2932, Accuracy: 0.875\n",
      "Epoch 34/200 - Loss: 0.2931, Accuracy: 0.8751\n",
      "Epoch 35/200 - Loss: 0.2935, Accuracy: 0.8747\n",
      "Epoch 36/200 - Loss: 0.2945, Accuracy: 0.8745\n",
      "Epoch 37/200 - Loss: 0.2962, Accuracy: 0.8731\n",
      "Epoch 38/200 - Loss: 0.3005, Accuracy: 0.872\n",
      "Epoch 39/200 - Loss: 0.3044, Accuracy: 0.8685\n",
      "Epoch 40/200 - Loss: 0.3098, Accuracy: 0.868\n",
      "Epoch 41/200 - Loss: 0.3003, Accuracy: 0.8709\n",
      "Epoch 42/200 - Loss: 0.2918, Accuracy: 0.8757\n",
      "Epoch 43/200 - Loss: 0.2947, Accuracy: 0.8745\n",
      "Epoch 44/200 - Loss: 0.2976, Accuracy: 0.873\n",
      "Epoch 45/200 - Loss: 0.2928, Accuracy: 0.8754\n",
      "Epoch 46/200 - Loss: 0.2912, Accuracy: 0.8762\n",
      "Epoch 47/200 - Loss: 0.2950, Accuracy: 0.8743\n",
      "Epoch 48/200 - Loss: 0.2932, Accuracy: 0.8752\n",
      "Epoch 49/200 - Loss: 0.2897, Accuracy: 0.8769\n",
      "Epoch 50/200 - Loss: 0.2925, Accuracy: 0.8755\n",
      "Epoch 51/200 - Loss: 0.2936, Accuracy: 0.875\n",
      "Epoch 52/200 - Loss: 0.2893, Accuracy: 0.8771\n",
      "Epoch 53/200 - Loss: 0.2894, Accuracy: 0.8771\n",
      "Epoch 54/200 - Loss: 0.2920, Accuracy: 0.8759\n",
      "Epoch 55/200 - Loss: 0.2901, Accuracy: 0.8767\n",
      "Epoch 56/200 - Loss: 0.2876, Accuracy: 0.8779\n",
      "Epoch 57/200 - Loss: 0.2883, Accuracy: 0.8776\n",
      "Epoch 58/200 - Loss: 0.2896, Accuracy: 0.8769\n",
      "Epoch 59/200 - Loss: 0.2889, Accuracy: 0.8774\n",
      "Epoch 60/200 - Loss: 0.2869, Accuracy: 0.8782\n",
      "Epoch 61/200 - Loss: 0.2862, Accuracy: 0.8785\n",
      "Epoch 62/200 - Loss: 0.2871, Accuracy: 0.8782\n",
      "Epoch 63/200 - Loss: 0.2879, Accuracy: 0.8775\n",
      "Epoch 64/200 - Loss: 0.2883, Accuracy: 0.8778\n",
      "Epoch 65/200 - Loss: 0.2874, Accuracy: 0.8778\n",
      "Epoch 66/200 - Loss: 0.2862, Accuracy: 0.8787\n",
      "Epoch 67/200 - Loss: 0.2850, Accuracy: 0.8791\n",
      "Epoch 68/200 - Loss: 0.2843, Accuracy: 0.8796\n",
      "Epoch 69/200 - Loss: 0.2841, Accuracy: 0.8797\n",
      "Epoch 70/200 - Loss: 0.2842, Accuracy: 0.8796\n",
      "Epoch 71/200 - Loss: 0.2850, Accuracy: 0.8794\n",
      "Epoch 72/200 - Loss: 0.2869, Accuracy: 0.8779\n",
      "Epoch 73/200 - Loss: 0.2919, Accuracy: 0.8765\n",
      "Epoch 74/200 - Loss: 0.2969, Accuracy: 0.8724\n",
      "Epoch 75/200 - Loss: 0.3049, Accuracy: 0.8711\n",
      "Epoch 76/200 - Loss: 0.2941, Accuracy: 0.874\n",
      "Epoch 77/200 - Loss: 0.2836, Accuracy: 0.8801\n",
      "Epoch 78/200 - Loss: 0.2868, Accuracy: 0.8787\n",
      "Epoch 79/200 - Loss: 0.2901, Accuracy: 0.8769\n",
      "Epoch 80/200 - Loss: 0.2843, Accuracy: 0.8799\n",
      "Epoch 81/200 - Loss: 0.2837, Accuracy: 0.8801\n",
      "Epoch 82/200 - Loss: 0.2872, Accuracy: 0.8783\n",
      "Epoch 83/200 - Loss: 0.2836, Accuracy: 0.8802\n",
      "Epoch 84/200 - Loss: 0.2821, Accuracy: 0.8809\n",
      "Epoch 85/200 - Loss: 0.2853, Accuracy: 0.8791\n",
      "Epoch 86/200 - Loss: 0.2835, Accuracy: 0.8802\n",
      "Epoch 87/200 - Loss: 0.2807, Accuracy: 0.8816\n",
      "Epoch 88/200 - Loss: 0.2833, Accuracy: 0.8801\n",
      "Epoch 89/200 - Loss: 0.2834, Accuracy: 0.8803\n",
      "Epoch 90/200 - Loss: 0.2799, Accuracy: 0.8818\n",
      "Epoch 91/200 - Loss: 0.2811, Accuracy: 0.8812\n",
      "Epoch 92/200 - Loss: 0.2827, Accuracy: 0.8807\n",
      "Epoch 93/200 - Loss: 0.2799, Accuracy: 0.8819\n",
      "Epoch 94/200 - Loss: 0.2788, Accuracy: 0.8824\n",
      "Epoch 95/200 - Loss: 0.2805, Accuracy: 0.8818\n",
      "Epoch 96/200 - Loss: 0.2803, Accuracy: 0.8813\n",
      "Epoch 97/200 - Loss: 0.2785, Accuracy: 0.8826\n",
      "Epoch 98/200 - Loss: 0.2774, Accuracy: 0.883\n",
      "Epoch 99/200 - Loss: 0.2781, Accuracy: 0.8826\n",
      "Epoch 100/200 - Loss: 0.2792, Accuracy: 0.8825\n",
      "Epoch 101/200 - Loss: 0.2788, Accuracy: 0.8821\n",
      "Epoch 102/200 - Loss: 0.2777, Accuracy: 0.8831\n",
      "Epoch 103/200 - Loss: 0.2763, Accuracy: 0.8836\n",
      "Epoch 104/200 - Loss: 0.2759, Accuracy: 0.8838\n",
      "Epoch 105/200 - Loss: 0.2762, Accuracy: 0.8838\n",
      "Epoch 106/200 - Loss: 0.2768, Accuracy: 0.8831\n",
      "Epoch 107/200 - Loss: 0.2777, Accuracy: 0.8832\n",
      "Epoch 108/200 - Loss: 0.2780, Accuracy: 0.8825\n",
      "Epoch 109/200 - Loss: 0.2786, Accuracy: 0.8828\n",
      "Epoch 110/200 - Loss: 0.2779, Accuracy: 0.8826\n",
      "Epoch 111/200 - Loss: 0.2770, Accuracy: 0.8836\n",
      "Epoch 112/200 - Loss: 0.2751, Accuracy: 0.884\n",
      "Epoch 113/200 - Loss: 0.2737, Accuracy: 0.885\n",
      "Epoch 114/200 - Loss: 0.2731, Accuracy: 0.8853\n",
      "Epoch 115/200 - Loss: 0.2731, Accuracy: 0.8852\n",
      "Epoch 116/200 - Loss: 0.2738, Accuracy: 0.885\n",
      "Epoch 117/200 - Loss: 0.2748, Accuracy: 0.8842\n",
      "Epoch 118/200 - Loss: 0.2770, Accuracy: 0.8836\n",
      "Epoch 119/200 - Loss: 0.2786, Accuracy: 0.8821\n",
      "Epoch 120/200 - Loss: 0.2813, Accuracy: 0.8818\n",
      "Epoch 121/200 - Loss: 0.2785, Accuracy: 0.8821\n",
      "Epoch 122/200 - Loss: 0.2745, Accuracy: 0.8847\n",
      "Epoch 123/200 - Loss: 0.2709, Accuracy: 0.8864\n",
      "Epoch 124/200 - Loss: 0.2718, Accuracy: 0.8859\n",
      "Epoch 125/200 - Loss: 0.2749, Accuracy: 0.8846\n",
      "Epoch 126/200 - Loss: 0.2749, Accuracy: 0.8842\n",
      "Epoch 127/200 - Loss: 0.2728, Accuracy: 0.8855\n",
      "Epoch 128/200 - Loss: 0.2696, Accuracy: 0.887\n",
      "Epoch 129/200 - Loss: 0.2694, Accuracy: 0.8871\n",
      "Epoch 130/200 - Loss: 0.2712, Accuracy: 0.8863\n",
      "Epoch 131/200 - Loss: 0.2717, Accuracy: 0.8858\n",
      "Epoch 132/200 - Loss: 0.2708, Accuracy: 0.8865\n",
      "Epoch 133/200 - Loss: 0.2684, Accuracy: 0.8875\n",
      "Epoch 134/200 - Loss: 0.2672, Accuracy: 0.8882\n",
      "Epoch 135/200 - Loss: 0.2675, Accuracy: 0.888\n",
      "Epoch 136/200 - Loss: 0.2685, Accuracy: 0.8874\n",
      "Epoch 137/200 - Loss: 0.2698, Accuracy: 0.887\n",
      "Epoch 138/200 - Loss: 0.2701, Accuracy: 0.8864\n",
      "Epoch 139/200 - Loss: 0.2709, Accuracy: 0.8865\n",
      "Epoch 140/200 - Loss: 0.2696, Accuracy: 0.8866\n",
      "Epoch 141/200 - Loss: 0.2681, Accuracy: 0.8879\n",
      "Epoch 142/200 - Loss: 0.2656, Accuracy: 0.8889\n",
      "Epoch 143/200 - Loss: 0.2644, Accuracy: 0.8896\n",
      "Epoch 144/200 - Loss: 0.2643, Accuracy: 0.8896\n",
      "Epoch 145/200 - Loss: 0.2651, Accuracy: 0.889\n",
      "Epoch 146/200 - Loss: 0.2669, Accuracy: 0.8885\n",
      "Epoch 147/200 - Loss: 0.2690, Accuracy: 0.887\n",
      "Epoch 148/200 - Loss: 0.2742, Accuracy: 0.8854\n",
      "Epoch 149/200 - Loss: 0.2752, Accuracy: 0.8836\n",
      "Epoch 150/200 - Loss: 0.2746, Accuracy: 0.8851\n",
      "Epoch 151/200 - Loss: 0.2647, Accuracy: 0.8893\n",
      "Epoch 152/200 - Loss: 0.2638, Accuracy: 0.8899\n",
      "Epoch 153/200 - Loss: 0.2695, Accuracy: 0.8873\n",
      "Epoch 154/200 - Loss: 0.2669, Accuracy: 0.8884\n",
      "Epoch 155/200 - Loss: 0.2624, Accuracy: 0.8906\n",
      "Epoch 156/200 - Loss: 0.2627, Accuracy: 0.8905\n",
      "Epoch 157/200 - Loss: 0.2658, Accuracy: 0.8889\n",
      "Epoch 158/200 - Loss: 0.2652, Accuracy: 0.8894\n",
      "Epoch 159/200 - Loss: 0.2611, Accuracy: 0.8911\n",
      "Epoch 160/200 - Loss: 0.2614, Accuracy: 0.8909\n",
      "Epoch 161/200 - Loss: 0.2631, Accuracy: 0.8903\n",
      "Epoch 162/200 - Loss: 0.2618, Accuracy: 0.8908\n",
      "Epoch 163/200 - Loss: 0.2598, Accuracy: 0.8919\n",
      "Epoch 164/200 - Loss: 0.2596, Accuracy: 0.8919\n",
      "Epoch 165/200 - Loss: 0.2608, Accuracy: 0.8911\n",
      "Epoch 166/200 - Loss: 0.2605, Accuracy: 0.8916\n",
      "Epoch 167/200 - Loss: 0.2590, Accuracy: 0.8922\n",
      "Epoch 168/200 - Loss: 0.2583, Accuracy: 0.8926\n",
      "Epoch 169/200 - Loss: 0.2581, Accuracy: 0.8927\n",
      "Epoch 170/200 - Loss: 0.2588, Accuracy: 0.892\n",
      "Epoch 171/200 - Loss: 0.2595, Accuracy: 0.8921\n",
      "Epoch 172/200 - Loss: 0.2599, Accuracy: 0.8915\n",
      "Epoch 173/200 - Loss: 0.2614, Accuracy: 0.8914\n",
      "Epoch 174/200 - Loss: 0.2620, Accuracy: 0.8903\n",
      "Epoch 175/200 - Loss: 0.2637, Accuracy: 0.8904\n",
      "Epoch 176/200 - Loss: 0.2611, Accuracy: 0.8908\n",
      "Epoch 177/200 - Loss: 0.2585, Accuracy: 0.8927\n",
      "Epoch 178/200 - Loss: 0.2563, Accuracy: 0.8935\n",
      "Epoch 179/200 - Loss: 0.2563, Accuracy: 0.8935\n",
      "Epoch 180/200 - Loss: 0.2579, Accuracy: 0.8929\n",
      "Epoch 181/200 - Loss: 0.2587, Accuracy: 0.8922\n",
      "Epoch 182/200 - Loss: 0.2589, Accuracy: 0.8926\n",
      "Epoch 183/200 - Loss: 0.2574, Accuracy: 0.8928\n",
      "Epoch 184/200 - Loss: 0.2560, Accuracy: 0.8938\n",
      "Epoch 185/200 - Loss: 0.2548, Accuracy: 0.8942\n",
      "Epoch 186/200 - Loss: 0.2546, Accuracy: 0.8943\n",
      "Epoch 187/200 - Loss: 0.2551, Accuracy: 0.8943\n",
      "Epoch 188/200 - Loss: 0.2557, Accuracy: 0.8937\n",
      "Epoch 189/200 - Loss: 0.2563, Accuracy: 0.8937\n",
      "Epoch 190/200 - Loss: 0.2564, Accuracy: 0.8933\n",
      "Epoch 191/200 - Loss: 0.2567, Accuracy: 0.8936\n",
      "Epoch 192/200 - Loss: 0.2562, Accuracy: 0.8934\n",
      "Epoch 193/200 - Loss: 0.2560, Accuracy: 0.8939\n",
      "Epoch 194/200 - Loss: 0.2551, Accuracy: 0.8939\n",
      "Epoch 195/200 - Loss: 0.2545, Accuracy: 0.8946\n",
      "Epoch 196/200 - Loss: 0.2536, Accuracy: 0.8947\n",
      "Epoch 197/200 - Loss: 0.2530, Accuracy: 0.8952\n",
      "Epoch 198/200 - Loss: 0.2525, Accuracy: 0.8953\n",
      "Epoch 199/200 - Loss: 0.2521, Accuracy: 0.8956\n",
      "Epoch 200/200 - Loss: 0.2519, Accuracy: 0.8956\n"
     ]
    }
   ],
   "source": [
    "emb = train(model, x_dict, edge_index_dict, combined_edges, labels)"
   ]
  },
  {
   "cell_type": "code",
   "execution_count": 40,
   "id": "THkr-JN-9Ba0",
   "metadata": {
    "id": "THkr-JN-9Ba0"
   },
   "outputs": [],
   "source": [
    "from sklearn.metrics import (\n",
    "    roc_auc_score, average_precision_score,\n",
    "    precision_recall_fscore_support\n",
    ")\n",
    "\n",
    "@torch.no_grad()\n",
    "def test(model, x, edge_index, combined_edges, labels):\n",
    "    model.eval()\n",
    "\n",
    "    # Node embeddings from the GNN\n",
    "    node_emb = model(x, edge_index)\n",
    "\n",
    "    # Use forward edges (customer → article)\n",
    "    src = combined_edges[0].to(device)\n",
    "    dst = combined_edges[1].to(device)\n",
    "\n",
    "    src_emb = node_emb['customer'][src]\n",
    "    dst_emb = node_emb['article'][dst]\n",
    "\n",
    "    dot_prd = (src_emb * dst_emb).sum(dim=1)\n",
    "\n",
    "    labels = labels.to(device)\n",
    "    loss = criterion(dot_prd, labels)\n",
    "\n",
    "    # Prediction probabilities\n",
    "    pred_prob = torch.sigmoid(dot_prd)\n",
    "    pred = (pred_prob > 0.5).long()   # threshold at 0.5\n",
    "\n",
    "    # Metrics\n",
    "    acc = accuracy(pred_prob, labels)\n",
    "    auc = roc_auc_score(labels.cpu().numpy(), pred_prob.cpu().numpy())\n",
    "    ap = average_precision_score(labels.cpu().numpy(), pred_prob.cpu().numpy())\n",
    "\n",
    "    # Precision, Recall, F1, Support\n",
    "    precision, recall, f1, support = precision_recall_fscore_support(\n",
    "        labels.cpu().numpy(),\n",
    "        pred.cpu().numpy(),\n",
    "        average=None   # returns per-class metrics\n",
    "    )\n",
    "\n",
    "    print(f\"Test Loss: {loss.item():.4f}, Accuracy: {acc:.4f}, AUC: {auc:.4f}, AP: {ap:.4f}\")\n",
    "    print(\"Precision:\", precision)\n",
    "    print(\"Recall:\", recall)\n",
    "    print(\"F1:\", f1)\n",
    "    print(\"Support:\", support)\n",
    "\n",
    "    return {\n",
    "        \"loss\": loss.item(),\n",
    "        \"accuracy\": acc,\n",
    "        \"auc\": auc,\n",
    "        \"ap\": ap,\n",
    "        \"precision\": precision,\n",
    "        \"recall\": recall,\n",
    "        \"f1\": f1\n",
    "    }\n"
   ]
  },
  {
   "cell_type": "code",
   "execution_count": 43,
   "id": "najZcdZ05Nso",
   "metadata": {
    "colab": {
     "base_uri": "https://localhost:8080/"
    },
    "id": "najZcdZ05Nso",
    "outputId": "da2cc3dd-2244-47a7-81ef-96b41feaaf45"
   },
   "outputs": [
    {
     "name": "stdout",
     "output_type": "stream",
     "text": [
      "Test Loss: 0.2516, Accuracy: 0.8957, AUC: 0.9566, AP: 0.9449\n",
      "Precision: [0.92845569 0.86767824]\n",
      "Recall: [0.8575767  0.93391743]\n",
      "F1: [0.89160977 0.89958013]\n",
      "Support: [1628947 1628947]\n"
     ]
    }
   ],
   "source": [
    "results = test(model, x_dict, edge_index_dict, combined_edges, labels)\n",
    "\n",
    "train_acc = results[\"accuracy\"]\n",
    "train_auc = results[\"auc\"]\n",
    "train_avg_prec = results[\"ap\"]\n",
    "t_prec = results[\"precision\"]\n",
    "t_recall = results[\"recall\"]\n",
    "t_f1 = results[\"f1\"]\n"
   ]
  },
  {
   "cell_type": "code",
   "execution_count": 44,
   "id": "l3ev9Pwc5acK",
   "metadata": {
    "colab": {
     "base_uri": "https://localhost:8080/"
    },
    "id": "l3ev9Pwc5acK",
    "outputId": "c62feca1-a307-4d8f-c826-102fc26479a4"
   },
   "outputs": [
    {
     "name": "stdout",
     "output_type": "stream",
     "text": [
      "Test Loss: 0.4709, Accuracy: 0.8475, AUC: 0.9170, AP: 0.9101\n",
      "Precision: [0.84173397 0.8534515 ]\n",
      "Recall: [0.85592162 0.83906635]\n",
      "F1: [0.84876851 0.8461978 ]\n",
      "Support: [698120 698120]\n"
     ]
    }
   ],
   "source": [
    "# Test Accuracy and ROC score\n",
    "results = test(model, x_dict, edge_index_dict, test_combined_edges, test_labels)"
   ]
  },
  {
   "cell_type": "code",
   "execution_count": null,
   "id": "xLpKn1Ab-Y0w",
   "metadata": {
    "id": "xLpKn1Ab-Y0w"
   },
   "outputs": [],
   "source": []
  },
  {
   "cell_type": "code",
   "execution_count": null,
   "id": "LC4bKeqq-Yug",
   "metadata": {
    "id": "LC4bKeqq-Yug"
   },
   "outputs": [],
   "source": []
  },
  {
   "cell_type": "code",
   "execution_count": null,
   "id": "5DGs17fJ-Yr9",
   "metadata": {
    "id": "5DGs17fJ-Yr9"
   },
   "outputs": [],
   "source": []
  },
  {
   "cell_type": "code",
   "execution_count": null,
   "id": "lqYJSKQM-YoQ",
   "metadata": {
    "id": "lqYJSKQM-YoQ"
   },
   "outputs": [],
   "source": []
  },
  {
   "cell_type": "code",
   "execution_count": null,
   "id": "vT00pZN2-YhV",
   "metadata": {
    "id": "vT00pZN2-YhV"
   },
   "outputs": [],
   "source": []
  },
  {
   "cell_type": "code",
   "execution_count": null,
   "id": "YNIUxCgg6Mvh",
   "metadata": {
    "id": "YNIUxCgg6Mvh"
   },
   "outputs": [],
   "source": []
  },
  {
   "cell_type": "code",
   "execution_count": 45,
   "id": "3e15c2f0-dc23-4469-8b4e-13c02d24f433",
   "metadata": {
    "id": "3e15c2f0-dc23-4469-8b4e-13c02d24f433"
   },
   "outputs": [],
   "source": [
    "# from sklearn.metrics import roc_auc_score\n",
    "\n",
    "# @torch.no_grad()\n",
    "# def test(model, x, edge_index, combined_edges, labels):\n",
    "#     model.eval()\n",
    "\n",
    "#     # Node embeddings from the GNN\n",
    "#     node_emb = model(x, edge_index)\n",
    "\n",
    "#     # Use forward edges (customer → article)\n",
    "#     src = combined_edges[0].to(device)\n",
    "#     dst = combined_edges[1].to(device)\n",
    "\n",
    "#     src_emb = node_emb['customer'][src]\n",
    "#     dst_emb = node_emb['article'][dst]\n",
    "\n",
    "#     dot_prd = (src_emb * dst_emb).sum(dim=1)\n",
    "\n",
    "#     labels = labels.to(device)\n",
    "#     loss = criterion(dot_prd, labels)\n",
    "\n",
    "#     # Prediction probabilities\n",
    "#     pred = torch.sigmoid(dot_prd)\n",
    "\n",
    "#     # Metrics\n",
    "#     acc = accuracy(pred, labels)\n",
    "#     auc = roc_auc_score(labels.cpu().numpy(), pred.cpu().numpy())\n",
    "\n",
    "#     print(f\"Test Loss: {loss.item():.4f}, Accuracy: {acc:.4f}, AUC: {auc:.4f}\")\n",
    "#     return acc, auc\n"
   ]
  }
 ],
 "metadata": {
  "accelerator": "GPU",
  "colab": {
   "gpuType": "T4",
   "provenance": []
  },
  "kernelspec": {
   "display_name": "Python 3 (ipykernel)",
   "language": "python",
   "name": "python3"
  },
  "language_info": {
   "codemirror_mode": {
    "name": "ipython",
    "version": 3
   },
   "file_extension": ".py",
   "mimetype": "text/x-python",
   "name": "python",
   "nbconvert_exporter": "python",
   "pygments_lexer": "ipython3",
   "version": "3.10.0"
  }
 },
 "nbformat": 4,
 "nbformat_minor": 5
}
